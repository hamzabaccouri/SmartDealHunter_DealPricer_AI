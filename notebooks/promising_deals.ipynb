{
 "cells": [
  {
   "cell_type": "code",
   "execution_count": 1,
   "metadata": {},
   "outputs": [
    {
     "name": "stdout",
     "output_type": "stream",
     "text": [
      "✅ Import paths configured:\n",
      "   You can use: from items import Item\n",
      "   You can use: from scripts.items import Item\n"
     ]
    }
   ],
   "source": [
    "import os\n",
    "import sys\n",
    "from pathlib import Path\n",
    "\n",
    "def setup_project_imports(include_direct_imports=False):\n",
    "    \"\"\"\n",
    "    Sets up the Python path to allow imports from project root.\n",
    "    Args:\n",
    "        include_direct_imports: If True, allows importing without the scripts/agents prefix\n",
    "    \"\"\"\n",
    "    # Get the notebook's directory and project root\n",
    "    current_dir = Path(os.getcwd())\n",
    "    project_root = str(current_dir.parent)\n",
    "    scripts_dir = os.path.join(project_root, 'scripts')\n",
    "    \n",
    "    # Clean up path\n",
    "    for path in [str(current_dir), project_root, scripts_dir]:\n",
    "        if path in sys.path:\n",
    "            sys.path.remove(path)\n",
    "    \n",
    "    # Add paths\n",
    "    sys.path.insert(0, project_root)\n",
    "    if include_direct_imports:\n",
    "        sys.path.insert(0, scripts_dir)  # This allows direct imports\n",
    "    \n",
    "    print(\"✅ Import paths configured:\")\n",
    "    if include_direct_imports:\n",
    "        print(\"   You can use: from items import Item\")\n",
    "    print(\"   You can use: from scripts.items import Item\")\n",
    "\n",
    "# Run setup with direct imports enabled\n",
    "setup_project_imports(include_direct_imports=True)"
   ]
  },
  {
   "cell_type": "code",
   "execution_count": 5,
   "metadata": {},
   "outputs": [],
   "source": [
    "# imports\n",
    "\n",
    "import os\n",
    "import json\n",
    "from dotenv import load_dotenv\n",
    "from openai import OpenAI\n",
    "from agents.deals import ScrapedDeal, DealSelection"
   ]
  },
  {
   "cell_type": "code",
   "execution_count": 6,
   "metadata": {},
   "outputs": [],
   "source": [
    "# Initialize and constants\n",
    "\n",
    "load_dotenv()\n",
    "os.environ['OPENAI_API_KEY'] = os.getenv('OPENAI_API_KEY', 'your-key-if-not-using-env')\n",
    "MODEL = 'gpt-4o-mini'\n",
    "openai = OpenAI()"
   ]
  },
  {
   "cell_type": "code",
   "execution_count": 7,
   "metadata": {},
   "outputs": [
    {
     "name": "stderr",
     "output_type": "stream",
     "text": [
      "100%|██████████| 5/5 [07:05<00:00, 85.05s/it]\n"
     ]
    }
   ],
   "source": [
    "deals = ScrapedDeal.fetch(show_progress=True)"
   ]
  },
  {
   "cell_type": "code",
   "execution_count": 8,
   "metadata": {},
   "outputs": [
    {
     "data": {
      "text/plain": [
       "50"
      ]
     },
     "execution_count": 8,
     "metadata": {},
     "output_type": "execute_result"
    }
   ],
   "source": [
    "len(deals)"
   ]
  },
  {
   "cell_type": "code",
   "execution_count": 9,
   "metadata": {},
   "outputs": [
    {
     "data": {
      "text/plain": [
       "'Title: TCL TV Deals at Best Buy: Up to 1,700 off + free shipping\\nDetails: Save on nearly 30 models all 65\" or larger. We\\'ve pictured the best selling TCL QM7-Series 65\" 4K HDR QD-Mini LED UHD Smart TV for $700 ($400 off). Shop Now at Best Buy\\nFeatures: \\nURL: https://www.dealnews.com/TCL-TV-Deals-at-Best-Buy-Up-to-1-700-off-free-shipping/21713311.html?iref=rss-c142'"
      ]
     },
     "execution_count": 9,
     "metadata": {},
     "output_type": "execute_result"
    }
   ],
   "source": [
    "deals[5].describe()"
   ]
  },
  {
   "cell_type": "code",
   "execution_count": 10,
   "metadata": {},
   "outputs": [],
   "source": [
    "system_prompt = \"\"\"You identify and summarize the 5 most detailed deals from a list, by selecting deals that have the most detailed, high quality description and the most clear price.\n",
    "Respond strictly in JSON with no explanation, using this format. You should provide the price as a number derived from the description. If the price of a deal isn't clear, do not include that deal in your response.\n",
    "Most important is that you respond with the 5 deals that have the most detailed product description with price. It's not important to mention the terms of the deal; most important is a thorough description of the product.\n",
    "Be careful with products that are described as \"$XXX off\" or \"reduced by $XXX\" - this isn't the actual price of the product. Only respond with products when you are highly confident about the price. \n",
    "\n",
    "{\"deals\": [\n",
    "    {\n",
    "        \"product_description\": \"Your clearly expressed summary of the product in 4-5 sentences. Details of the item are much more important than why it's a good deal. Avoid mentioning discounts and coupons; focus on the item itself. There should be a paragpraph of text for each item you choose.\",\n",
    "        \"price\": 99.99,\n",
    "        \"url\": \"the url as provided\"\n",
    "    },\n",
    "    ...\n",
    "]}\"\"\""
   ]
  },
  {
   "cell_type": "code",
   "execution_count": 11,
   "metadata": {},
   "outputs": [],
   "source": [
    "user_prompt = \"\"\"Respond with the most promising 5 deals from this list, selecting those which have the most detailed, high quality product description and a clear price.\n",
    "Respond strictly in JSON, and only JSON. You should rephrase the description to be a summary of the product itself, not the terms of the deal.\n",
    "Remember to respond with a paragraph of text in the product_description field for each of the 5 items that you select.\n",
    "Be careful with products that are described as \"$XXX off\" or \"reduced by $XXX\" - this isn't the actual price of the product. Only respond with products when you are highly confident about the price. \n",
    "\n",
    "Deals:\n",
    "\n",
    "\"\"\"\n",
    "user_prompt += '\\n\\n'.join([deal.describe() for deal in deals])"
   ]
  },
  {
   "cell_type": "code",
   "execution_count": 12,
   "metadata": {},
   "outputs": [
    {
     "name": "stdout",
     "output_type": "stream",
     "text": [
      "Respond with the most promising 5 deals from this list, selecting those which have the most detailed, high quality product description and a clear price.\n",
      "Respond strictly in JSON, and only JSON. You should rephrase the description to be a summary of the product itself, not the terms of the deal.\n",
      "Remember to respond with a paragraph of text in the product_description field for each of the 5 items that you select.\n",
      "Be careful with products that are described as \"$XXX off\" or \"reduced by $XXX\" - this isn't the actual price of the product. Only respond with products when you are highly confident about the price. \n",
      "\n",
      "Deals:\n",
      "\n",
      "Title: Logitech G560 PC Gaming Speaker System for $180 + free shipping\n",
      "Details: It's $20 off and the lowest price we could find. Buy Now at Best Buy\n",
      "Features: 7.1 DTS:X Ultra Surround Sound  Game based LIGHTSYNC RGB Two Speakers and Subwoofer Bluetooth and USB Model: 980-001300\n",
      "URL: https://www.dealnews.com/products/Logitech/Logitech-G560-PC-Gaming-Speaker-System/486469.html?iref=rss-c142\n",
      "\n",
      "Title: Panasonic DECT Phone Deals at Walmart From $37 + free shipping\n",
      "Details: We've pictured the Panasonic DECT 6.0 Expandable Cordless Phone System with Answering Machine and 2 Handsets for $90 ($20 off). Buy Now at Walmart\n",
      "Features: \n",
      "URL: https://www.dealnews.com/Panasonic-DECT-Phone-Deals-at-Walmart-From-37-free-shipping/21713489.html?iref=rss-c142\n",
      "\n",
      "Title: Apple iPhone 14 128GB Prepaid Smartphone for Straight Talk for $399 + free shipping\n",
      "Details: That's a $130 low. Buy Now at Walmart\n",
      "Features: \n",
      "URL: https://www.dealnews.com/products/Apple/iPhone-14-128-GB-Prepaid-Smartphone-for-Straight-Talk/486454.html?iref=rss-c142\n",
      "\n",
      "Title: Unlocked Google Pixel 9 Pro Fold Android Smartphone for $1,399 + free shipping\n",
      "Details: That's $300 off, $100 under Amazon, the lowest price we could find, and the best deal we've seen for it. Buy Now at Best Buy\n",
      "Features: 6.3\" 1080x2424 OLED display; 8\" internal Super Actua Flex (internal) display  10MP Dual selfie camera; 48MP wide, 10MP du\n"
     ]
    }
   ],
   "source": [
    "print(user_prompt[:2000])"
   ]
  },
  {
   "cell_type": "code",
   "execution_count": 13,
   "metadata": {},
   "outputs": [],
   "source": [
    "def get_recommendations():\n",
    "    completion = openai.beta.chat.completions.parse(\n",
    "        model=\"gpt-4o-mini\",\n",
    "        messages=[\n",
    "            {\"role\": \"system\", \"content\": system_prompt},\n",
    "            {\"role\": \"user\", \"content\": user_prompt}\n",
    "      ],\n",
    "        response_format=DealSelection\n",
    "    )\n",
    "    result = completion.choices[0].message.parsed\n",
    "    return result"
   ]
  },
  {
   "cell_type": "code",
   "execution_count": 14,
   "metadata": {},
   "outputs": [],
   "source": [
    "result = get_recommendations()"
   ]
  },
  {
   "cell_type": "code",
   "execution_count": 17,
   "metadata": {},
   "outputs": [
    {
     "data": {
      "text/plain": [
       "agents.deals.DealSelection"
      ]
     },
     "execution_count": 17,
     "metadata": {},
     "output_type": "execute_result"
    }
   ],
   "source": [
    "type(result)"
   ]
  },
  {
   "cell_type": "code",
   "execution_count": 15,
   "metadata": {},
   "outputs": [
    {
     "data": {
      "text/plain": [
       "5"
      ]
     },
     "execution_count": 15,
     "metadata": {},
     "output_type": "execute_result"
    }
   ],
   "source": [
    "len(result.deals)"
   ]
  },
  {
   "cell_type": "code",
   "execution_count": 16,
   "metadata": {},
   "outputs": [
    {
     "data": {
      "text/plain": [
       "Deal(product_description='The Unlocked Google Pixel 9 Pro Fold Android Smartphone boasts a stunning 6.3\" 1080x2424 OLED display and features an internal 8\" Super Actua Flex display. It is equipped with a 10MP dual selfie camera and a robust rear camera setup of 48MP wide, 10MP dual ultrawide, and 10.8MP dual telephoto options. With 16GB of RAM, this phone runs on Android 14 and includes innovative Gemini AI photo tools.', price=1399.0, url='https://www.dealnews.com/products/Google/Unlocked-Google-Pixel-9-Pro-Fold-Android-Smartphone/486447.html?iref=rss-c142')"
      ]
     },
     "execution_count": 16,
     "metadata": {},
     "output_type": "execute_result"
    }
   ],
   "source": [
    "result.deals[1]"
   ]
  },
  {
   "cell_type": "code",
   "execution_count": 19,
   "metadata": {},
   "outputs": [],
   "source": [
    "from agents.scanner_agent import ScannerAgent"
   ]
  },
  {
   "cell_type": "code",
   "execution_count": 20,
   "metadata": {},
   "outputs": [],
   "source": [
    "agent = ScannerAgent()\n",
    "result = agent.scan()"
   ]
  },
  {
   "cell_type": "code",
   "execution_count": 22,
   "metadata": {},
   "outputs": [
    {
     "name": "stdout",
     "output_type": "stream",
     "text": [
      "deals=[Deal(product_description=\"The Logitech G560 PC Gaming Speaker System delivers immersive 7.1 DTS:X Ultra Surround Sound, making it a perfect companion for gamers. This speaker system integrates Game-based LIGHTSYNC RGB lighting that responds to the action on your screen, enhancing your gaming experience. Designed with a two-speaker and subwoofer setup, it's compatible with Bluetooth and USB connections, giving you flexibility and ease of use. The model number for this high-performance audio solution is 980-001300.\", price=180.0, url='https://www.dealnews.com/products/Logitech/Logitech-G560-PC-Gaming-Speaker-System/486469.html?iref=rss-c142'), Deal(product_description='The Unlocked Google Pixel 9 Pro Fold Android Smartphone impresses with its stunning 6.3-inch 1080x2424 OLED display and remarkable 8-inch internal Super Actua Flex display. Photography enthusiasts will appreciate the sophisticated camera system, featuring a 10MP dual selfie camera and a versatile rear setup with a 48MP wide, 10MP dual ultrawide, and 10.8MP dual telephoto lens. Powered by 16GB of RAM and operating on Android 14, this smartphone is equipped with Gemini AI for enhanced photo editing capabilities.', price=1399.0, url='https://www.dealnews.com/products/Google/Unlocked-Google-Pixel-9-Pro-Fold-Android-Smartphone/486447.html?iref=rss-c142'), Deal(product_description='The Eco-Worthy 20.48kWh 48V 100AH Server Rack LiFePO4 Lithium Battery 4-Pack is designed for robust energy solutions, featuring wireless connectivity with smart monitoring capabilities. Ideal for standard 3U cabinets, this high-performance battery option offers 6000 deep discharge cycles, ensuring longevity and reliability for various applications. It is a perfect choice for those looking to enhance their power storage with cutting-edge lithium technology.', price=3050.0, url='https://www.dealnews.com/Eco-Worthy-20-48-k-Wh-48-V-100-AH-Server-Rack-Li-Fe-PO4-Lithium-Battery-4-Pack-for-3-050-free-shipping/21713148.html?iref=rss-c142'), Deal(product_description='The Craftsman 10\" 15A 120V Corded Portable Jobsite Table Saw features a powerful 15-amp motor and an expansive 27-3/8\" x 21-7/8\" cast aluminum table. The saw provides a rip capacity of 12\" to the right and 10\" to the left, allowing for flexibility in the size of the materials you can cut. It comes with a detachable folding stand for easy setup and portability, making it an excellent choice for contractors and DIY enthusiasts. The model number for this reliable tool is CMXETAX69434502.', price=189.0, url='https://www.dealnews.com/products/Craftsman/Craftsman-10-15-A-120-V-Corded-Portable-Jobsite-Table-Saw/486470.html?iref=rss-c196'), Deal(product_description='The Kobalt 20-Piece SAE and Metric Ratchet Wrench Set is crafted from high-quality chrome vanadium steel, ensuring durability and longevity. This set features a 90-tooth ratcheting end, allowing for a minimal 4° of arc swing for improved precision in tight spots. With 20 different pieces included, it covers a wide range of applications for mechanics and DIY projects alike. The model number for this versatile tool set is 81730.', price=60.0, url='https://www.dealnews.com/products/Kobalt/Kobalt-20-Piece-SAE-and-Metric-Ratchet-Wrench/486468.html?iref=rss-c196')]\n"
     ]
    }
   ],
   "source": [
    "print(result)"
   ]
  },
  {
   "cell_type": "code",
   "execution_count": null,
   "metadata": {},
   "outputs": [],
   "source": []
  }
 ],
 "metadata": {
  "kernelspec": {
   "display_name": "llms",
   "language": "python",
   "name": "llms"
  },
  "language_info": {
   "codemirror_mode": {
    "name": "ipython",
    "version": 3
   },
   "file_extension": ".py",
   "mimetype": "text/x-python",
   "name": "python",
   "nbconvert_exporter": "python",
   "pygments_lexer": "ipython3",
   "version": "3.11.10"
  }
 },
 "nbformat": 4,
 "nbformat_minor": 2
}
